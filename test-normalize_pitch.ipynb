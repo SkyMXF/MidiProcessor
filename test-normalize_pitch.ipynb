{
 "metadata": {
  "language_info": {
   "codemirror_mode": {
    "name": "ipython",
    "version": 3
   },
   "file_extension": ".py",
   "mimetype": "text/x-python",
   "name": "python",
   "nbconvert_exporter": "python",
   "pygments_lexer": "ipython3",
   "version": "3.8.5"
  },
  "orig_nbformat": 2,
  "kernelspec": {
   "name": "python385jvsc74a57bd05b629903eaf6489290e375f290bb3ff8b549c1948b183ab214e326970cf6e896",
   "display_name": "Python 3.8.5 64-bit ('base': conda)"
  }
 },
 "nbformat": 4,
 "nbformat_minor": 2,
 "cells": [
  {
   "cell_type": "code",
   "execution_count": 1,
   "metadata": {},
   "outputs": [],
   "source": [
    "from midi_processing import *\n",
    "from keys_normalization import *"
   ]
  },
  {
   "cell_type": "code",
   "execution_count": 2,
   "metadata": {},
   "outputs": [],
   "source": [
    "pcs = MidiProcessor('TS1')"
   ]
  },
  {
   "cell_type": "code",
   "execution_count": 3,
   "metadata": {},
   "outputs": [],
   "source": [
    "test_midi = '../../test_midi/ls.mid'\n",
    "track = -3"
   ]
  },
  {
   "cell_type": "code",
   "execution_count": 4,
   "metadata": {},
   "outputs": [],
   "source": [
    "midi_obj = pcs.load_midi(test_midi)"
   ]
  },
  {
   "cell_type": "code",
   "execution_count": 5,
   "metadata": {},
   "outputs": [],
   "source": [
    "pos_info = pcs.collect_pos_info(midi_obj, tracks=track)"
   ]
  },
  {
   "cell_type": "code",
   "execution_count": 6,
   "metadata": {},
   "outputs": [],
   "source": [
    "notes = get_notes_from_pos_info(pos_info)"
   ]
  },
  {
   "cell_type": "code",
   "execution_count": 7,
   "metadata": {},
   "outputs": [
    {
     "output_type": "execute_result",
     "data": {
      "text/plain": [
       "693"
      ]
     },
     "metadata": {},
     "execution_count": 7
    }
   ],
   "source": [
    "len(notes)"
   ]
  },
  {
   "cell_type": "code",
   "execution_count": 8,
   "metadata": {},
   "outputs": [],
   "source": [
    "histogram = get_pitch_class_histogram(notes)"
   ]
  },
  {
   "cell_type": "code",
   "execution_count": 9,
   "metadata": {},
   "outputs": [
    {
     "output_type": "execute_result",
     "data": {
      "text/plain": [
       "array([0.        , 0.05579131, 0.265111  , 0.00126798, 0.25753888,\n",
       "       0.        , 0.2346487 , 0.03018621, 0.05579131, 0.05816879,\n",
       "       0.        , 0.04149581])"
      ]
     },
     "metadata": {},
     "execution_count": 9
    }
   ],
   "source": [
    "histogram"
   ]
  },
  {
   "cell_type": "code",
   "execution_count": 10,
   "metadata": {},
   "outputs": [],
   "source": [
    "import pickle"
   ]
  },
  {
   "cell_type": "code",
   "execution_count": 11,
   "metadata": {},
   "outputs": [],
   "source": [
    "with open('key_profile.pickle', 'rb') as f:\n",
    "    key_profile = pickle.load(f)"
   ]
  },
  {
   "cell_type": "code",
   "execution_count": 12,
   "metadata": {},
   "outputs": [],
   "source": [
    "key_candidate = np.dot(key_profile, histogram)"
   ]
  },
  {
   "cell_type": "code",
   "execution_count": 14,
   "metadata": {},
   "outputs": [
    {
     "output_type": "stream",
     "name": "stdout",
     "text": [
      "(24, 12) (12,) (24,)\n"
     ]
    }
   ],
   "source": [
    "print(key_profile.shape, histogram.shape, key_candidate.shape)"
   ]
  },
  {
   "cell_type": "code",
   "execution_count": 17,
   "metadata": {},
   "outputs": [
    {
     "output_type": "execute_result",
     "data": {
      "text/plain": [
       "array([ 0.30500138, -0.30500138,  0.8858814 , -0.29528698,  0.40940558,\n",
       "        0.22200976, -0.22200976,  0.77429877, -0.71392635,  0.93709161,\n",
       "       -0.29053204,  0.29306801, -0.29528698,  0.40940558,  0.22200976,\n",
       "       -0.22200976,  0.77429877, -0.71392635,  0.93709161, -0.29053204,\n",
       "        0.29306801,  0.30500138, -0.30500138,  0.8858814 ])"
      ]
     },
     "metadata": {},
     "execution_count": 17
    }
   ],
   "source": [
    "key_candidate"
   ]
  },
  {
   "cell_type": "code",
   "execution_count": 15,
   "metadata": {},
   "outputs": [],
   "source": [
    "key_temp = np.where(key_candidate == max(key_candidate))"
   ]
  },
  {
   "cell_type": "code",
   "execution_count": 24,
   "metadata": {},
   "outputs": [
    {
     "output_type": "execute_result",
     "data": {
      "text/plain": [
       "array([False, False, False, False, False, False, False, False, False,\n",
       "        True, False, False, False, False, False, False, False, False,\n",
       "        True, False, False, False, False, False])"
      ]
     },
     "metadata": {},
     "execution_count": 24
    }
   ],
   "source": [
    "key_candidate == max(key_candidate)"
   ]
  },
  {
   "cell_type": "code",
   "execution_count": 25,
   "metadata": {},
   "outputs": [
    {
     "output_type": "execute_result",
     "data": {
      "text/plain": [
       "(array([ 9, 18], dtype=int64),)"
      ]
     },
     "metadata": {},
     "execution_count": 25
    }
   ],
   "source": [
    "np.where(_)"
   ]
  },
  {
   "cell_type": "code",
   "execution_count": null,
   "metadata": {},
   "outputs": [],
   "source": []
  },
  {
   "cell_type": "code",
   "execution_count": 16,
   "metadata": {},
   "outputs": [
    {
     "output_type": "execute_result",
     "data": {
      "text/plain": [
       "(array([ 9, 18], dtype=int64),)"
      ]
     },
     "metadata": {},
     "execution_count": 16
    }
   ],
   "source": [
    "key_temp"
   ]
  },
  {
   "cell_type": "code",
   "execution_count": null,
   "metadata": {},
   "outputs": [],
   "source": []
  }
 ]
}