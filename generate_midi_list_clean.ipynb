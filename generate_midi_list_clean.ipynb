{
 "cells": [
  {
   "cell_type": "code",
   "execution_count": null,
   "source": [],
   "outputs": [],
   "metadata": {}
  },
  {
   "cell_type": "markdown",
   "source": [
    "# Generate Midi List and Clean\n",
    "Generate a list of midi files in a directory, and clean (remove invalid files and duplicated files)."
   ],
   "metadata": {}
  },
  {
   "cell_type": "markdown",
   "source": [
    "## Settings"
   ],
   "metadata": {}
  },
  {
   "cell_type": "code",
   "execution_count": 1,
   "source": [
    "data_dir = '../../data/merged-dataset'\n",
    "suffixes = ('mid', )\n",
    "midi_checker = 'default'\n",
    "remove_invalid = True\n",
    "remove_duplicated = True\n",
    "save_path = '../../processed_data/info_note/merged-dataset.clean.deduplicated.txt'"
   ],
   "outputs": [],
   "metadata": {}
  },
  {
   "cell_type": "markdown",
   "source": [
    "## Preprocessing"
   ],
   "metadata": {}
  },
  {
   "cell_type": "code",
   "execution_count": 2,
   "source": [
    "import os\n",
    "from midiprocessor import midi_utils, data_utils"
   ],
   "outputs": [],
   "metadata": {}
  },
  {
   "cell_type": "code",
   "execution_count": 3,
   "source": [
    "data_dir = data_dir.replace('\\\\', '//')\n",
    "assert '://' not in data_dir\n",
    "if data_dir[-1] == '/':\n",
    "    data_dir = data_dir[:-1]\n",
    "print('Data Dir: %s' % data_dir)"
   ],
   "outputs": [
    {
     "output_type": "stream",
     "name": "stdout",
     "text": [
      "Data Dir: ../../data/merged-dataset\n"
     ]
    }
   ],
   "metadata": {}
  },
  {
   "cell_type": "markdown",
   "source": [
    "## Processing"
   ],
   "metadata": {}
  },
  {
   "cell_type": "code",
   "execution_count": 5,
   "source": [
    "processed = set()\n",
    "file_list = []\n",
    "\n",
    "len_root = len(data_dir.split('/'))\n",
    "\n",
    "for root_dir, dirs, files in os.walk(data_dir):\n",
    "    for file_name in files:\n",
    "        if suffixes is not None and len(suffixes) > 0:\n",
    "            not_in = True\n",
    "            for suffix in suffixes:\n",
    "                if file_name.endswith(suffix):\n",
    "                    not_in = False\n",
    "                    break\n",
    "            if not_in:\n",
    "                continue\n",
    "        \n",
    "        file_path = os.path.join(root_dir, file_name).replace('\\\\', '/')\n",
    "        relative_path = '/'.join(file_path.split('/')[len_root:])\n",
    "\n",
    "        try:\n",
    "            with open(file_path, 'rb') as f:\n",
    "                md5 = data_utils.get_md5_sum(file_obj=f)\n",
    "                if md5 in processed and remove_duplicated:\n",
    "                    continue\n",
    "                processed.add(md5)\n",
    "\n",
    "                f.seek(0)\n",
    "                midi_obj = midi_utils.load_midi(file=f, midi_checker=midi_checker)\n",
    "        except:\n",
    "            if not remove_invalid:\n",
    "                file_list.append(relative_path)\n",
    "        else:\n",
    "            file_list.append(relative_path)"
   ],
   "outputs": [],
   "metadata": {}
  },
  {
   "cell_type": "markdown",
   "source": [
    "## Save"
   ],
   "metadata": {}
  },
  {
   "cell_type": "code",
   "execution_count": null,
   "source": [
    "data_utils.dump_list(file_list, save_path)"
   ],
   "outputs": [],
   "metadata": {}
  }
 ],
 "metadata": {
  "orig_nbformat": 4,
  "language_info": {
   "name": "python",
   "version": "3.8.3",
   "mimetype": "text/x-python",
   "codemirror_mode": {
    "name": "ipython",
    "version": 3
   },
   "pygments_lexer": "ipython3",
   "nbconvert_exporter": "python",
   "file_extension": ".py"
  },
  "kernelspec": {
   "name": "python3",
   "display_name": "Python 3.8.3 64-bit ('base': conda)"
  },
  "interpreter": {
   "hash": "ff0ca1643464aa02e32831549484bc5426b273aafa0ac5ed8478245e429ee9b4"
  }
 },
 "nbformat": 4,
 "nbformat_minor": 2
}