{
 "cells": [
  {
   "cell_type": "markdown",
   "source": [
    "# Melody Extraction\r\n",
    "In this notebook, we extract melody track for each MIDI file. The result is the track (instrument) index for each MIDI file."
   ],
   "metadata": {}
  },
  {
   "cell_type": "code",
   "execution_count": 1,
   "source": [
    "import os\r\n",
    "import json\r\n",
    "import legacy_tools\r\n",
    "import warnings\r\n",
    "warnings.filterwarnings('ignore')"
   ],
   "outputs": [
    {
     "output_type": "stream",
     "name": "stderr",
     "text": [
      "C:\\Users\\v-botaoyu\\Anaconda3\\lib\\site-packages\\sklearn\\utils\\deprecation.py:143: FutureWarning: The sklearn.ensemble.forest module is  deprecated in version 0.22 and will be removed in version 0.24. The corresponding classes / functions should instead be imported from sklearn.ensemble. Anything that cannot be imported from sklearn.ensemble is now part of the private API.\n",
      "  warnings.warn(message, FutureWarning)\n",
      "C:\\Users\\v-botaoyu\\Anaconda3\\lib\\site-packages\\sklearn\\utils\\deprecation.py:143: FutureWarning: The sklearn.tree.tree module is  deprecated in version 0.22 and will be removed in version 0.24. The corresponding classes / functions should instead be imported from sklearn.tree. Anything that cannot be imported from sklearn.tree is now part of the private API.\n",
      "  warnings.warn(message, FutureWarning)\n",
      "C:\\Users\\v-botaoyu\\Anaconda3\\lib\\site-packages\\sklearn\\base.py:329: UserWarning: Trying to unpickle estimator DecisionTreeClassifier from version 0.21.3 when using version 0.23.2. This might lead to breaking code or invalid results. Use at your own risk.\n",
      "  warnings.warn(\n",
      "C:\\Users\\v-botaoyu\\Anaconda3\\lib\\site-packages\\sklearn\\base.py:329: UserWarning: Trying to unpickle estimator RandomForestClassifier from version 0.21.3 when using version 0.23.2. This might lead to breaking code or invalid results. Use at your own risk.\n",
      "  warnings.warn(\n",
      "C:\\Users\\v-botaoyu\\Anaconda3\\lib\\site-packages\\sklearn\\base.py:329: UserWarning: Trying to unpickle estimator DecisionTreeClassifier from version 0.19.1 when using version 0.23.2. This might lead to breaking code or invalid results. Use at your own risk.\n",
      "  warnings.warn(\n",
      "C:\\Users\\v-botaoyu\\Anaconda3\\lib\\site-packages\\sklearn\\base.py:329: UserWarning: Trying to unpickle estimator RandomForestClassifier from version 0.19.1 when using version 0.23.2. This might lead to breaking code or invalid results. Use at your own risk.\n",
      "  warnings.warn(\n"
     ]
    }
   ],
   "metadata": {}
  },
  {
   "cell_type": "markdown",
   "source": [
    "## Single Extraction\r\n",
    "Extract the melody from a single file."
   ],
   "metadata": {}
  },
  {
   "cell_type": "code",
   "execution_count": 6,
   "source": [
    "test_file_path = 'test2.mid'"
   ],
   "outputs": [],
   "metadata": {}
  },
  {
   "cell_type": "code",
   "execution_count": 7,
   "source": [
    "result = legacy_tools.extract_main_melody_for_file_path(test_file_path)"
   ],
   "outputs": [],
   "metadata": {}
  },
  {
   "cell_type": "code",
   "execution_count": 8,
   "source": [
    "print(result)"
   ],
   "outputs": [
    {
     "output_type": "stream",
     "name": "stdout",
     "text": [
      "0\n"
     ]
    }
   ],
   "metadata": {}
  },
  {
   "cell_type": "markdown",
   "source": [
    "## Batch Extraction\r\n",
    "Extract melody tract for every MIDI file in the designated directory, and save the results."
   ],
   "metadata": {}
  },
  {
   "cell_type": "code",
   "execution_count": 2,
   "source": [
    "# MIDI directory to extract\r\n",
    "data_dir = '../../data/kunstderfuge-com_complete_collection'\r\n",
    "# Dicectory where the results should be saved\r\n",
    "save_dir = '../../processed_data/kunstderfuge/info_note'"
   ],
   "outputs": [],
   "metadata": {}
  },
  {
   "cell_type": "code",
   "execution_count": 3,
   "source": [
    "os.makedirs(save_dir, exist_ok=True)"
   ],
   "outputs": [],
   "metadata": {}
  },
  {
   "cell_type": "code",
   "execution_count": 5,
   "source": [
    "def extract_melody_for_all_midi(dir):\r\n",
    "    all_midi_paths = []\r\n",
    "    null_melody_midi_paths = []\r\n",
    "    melody_midi_paths = []\r\n",
    "    melody_midi_dict = {}  # {path: melody_idx, ...}\r\n",
    "    cnt = 0\r\n",
    "\r\n",
    "    len_path = len(dir.replace('\\\\', '/').split('/'))\r\n",
    "    \r\n",
    "    for root_dirs, dirs, files in os.walk(dir):\r\n",
    "        for file_name in files:\r\n",
    "            if not file_name.endswith('.mid'):\r\n",
    "                continue\r\n",
    "\r\n",
    "            file_path = os.path.join(root_dirs, file_name).replace('\\\\', '/')\r\n",
    "\r\n",
    "            rel_path = file_path.split('/')[len_path:]\r\n",
    "            rel_path = '/'.join(rel_path)\r\n",
    "\r\n",
    "            all_midi_paths.append(rel_path)\r\n",
    "\r\n",
    "            try:\r\n",
    "                result = legacy_tools.extract_main_melody_for_file_path(file_path)\r\n",
    "            except:\r\n",
    "                result = None\r\n",
    "            \r\n",
    "            if result is None:\r\n",
    "                null_melody_midi_paths.append(rel_path)\r\n",
    "            else:\r\n",
    "                melody_midi_paths.append(rel_path)\r\n",
    "                melody_midi_dict[file_name] = str(result)\r\n",
    "                    \r\n",
    "            cnt += 1\r\n",
    "                \r\n",
    "            if cnt % 100 == 0:\r\n",
    "                print(f'Processed MIDI files: {cnt}, Melody MIDI files: {len(melody_midi_paths)}, Null: {len(null_melody_midi_paths)}')\r\n",
    "             \r\n",
    "    print(f'Total number of MIDI files: {cnt}, Melody MIDI files: {len(melody_midi_paths)}, Null: {len(null_melody_midi_paths)}')\r\n",
    "    \r\n",
    "    return all_midi_paths, null_melody_midi_paths, melody_midi_paths, melody_midi_dict"
   ],
   "outputs": [],
   "metadata": {}
  },
  {
   "cell_type": "code",
   "execution_count": 6,
   "source": [
    "all_midi_paths, null_melody_midi_paths, melody_midi_paths, melody_midi_dict = extract_melody_for_all_midi(data_dir)"
   ],
   "outputs": [],
   "metadata": {}
  },
  {
   "cell_type": "code",
   "execution_count": null,
   "source": [
    "def write_list(obj, file_path):\r\n",
    "    assert isinstance(obj, list)\r\n",
    "    with open(file_path, 'w') as f:\r\n",
    "        for item in obj:\r\n",
    "            f.write(item + '\\n')"
   ],
   "outputs": [],
   "metadata": {}
  },
  {
   "cell_type": "code",
   "execution_count": null,
   "source": [
    "def write_json(obj, file_path):\r\n",
    "    assert isinstance(obj, (list, tuple, dict))\r\n",
    "    with open(file_path, 'w') as f:\r\n",
    "        json.dump(obj, f)"
   ],
   "outputs": [],
   "metadata": {}
  },
  {
   "cell_type": "code",
   "execution_count": null,
   "source": [
    "write_list(all_midi_paths, os.path.join(save_dir, 'all_midi_paths.txt'))"
   ],
   "outputs": [],
   "metadata": {}
  },
  {
   "cell_type": "code",
   "execution_count": null,
   "source": [
    "write_list(melody_midi_paths, os.path.join(save_dir, 'melody_midi_paths.txt'))"
   ],
   "outputs": [],
   "metadata": {}
  },
  {
   "cell_type": "code",
   "execution_count": null,
   "source": [
    "write_json(melody_midi_dict, os.path.join(save_dir, 'melody_midi_dict.json'))"
   ],
   "outputs": [],
   "metadata": {}
  }
 ],
 "metadata": {
  "kernelspec": {
   "display_name": "py383",
   "language": "python",
   "name": "py383"
  },
  "language_info": {
   "codemirror_mode": {
    "name": "ipython",
    "version": 3
   },
   "file_extension": ".py",
   "mimetype": "text/x-python",
   "name": "python",
   "nbconvert_exporter": "python",
   "pygments_lexer": "ipython3",
   "version": "3.8.3"
  }
 },
 "nbformat": 4,
 "nbformat_minor": 4
}