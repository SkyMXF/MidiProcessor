{
 "cells": [
  {
   "cell_type": "code",
   "execution_count": 1,
   "source": [
    "original_token_dir = '../../processed_data/lmd_melody/ts1.lmd_melody.99245_8822_2205.melody_track.reb.l4000.tokenization'\r\n",
    "output_dir = '../../processed_data/lmd_melody/ts1.lmd_melody.99245_8822_2205.melody_track.reb.l4000.translation'"
   ],
   "outputs": [],
   "metadata": {}
  },
  {
   "cell_type": "code",
   "execution_count": 2,
   "source": [
    "split_names = ('valid', 'test', 'train')"
   ],
   "outputs": [],
   "metadata": {}
  },
  {
   "cell_type": "code",
   "execution_count": 3,
   "source": [
    "import os\r\n",
    "import shutil\r\n",
    "import split_utils\r\n",
    "from functools import partial"
   ],
   "outputs": [],
   "metadata": {}
  },
  {
   "cell_type": "code",
   "execution_count": 4,
   "source": [
    "split_sequence = partial(split_utils.ts1.pitch4.split_sequence, min_target_len=10)\r\n",
    "real_output_dir = output_dir + '_pitch4'"
   ],
   "outputs": [],
   "metadata": {}
  },
  {
   "cell_type": "code",
   "execution_count": 5,
   "source": [
    "def split_sequences(original_file_path, output_prefix):\r\n",
    "    invalid = 0\r\n",
    "    src_lists = []\r\n",
    "    tgt_lists = []\r\n",
    "    align_lists = []\r\n",
    "    with open(original_file_path, 'r', encoding='utf-8') as f:\r\n",
    "        for l in f:\r\n",
    "            ls = l.strip()\r\n",
    "            if ls == '':\r\n",
    "                continue\r\n",
    "\r\n",
    "            ls_list = ls.split(' ')\r\n",
    "            \r\n",
    "            src_list, tgt_list, align_list = split_sequence(ls_list)\r\n",
    "            \r\n",
    "            if src_list is None:\r\n",
    "                invalid += 1\r\n",
    "                continue\r\n",
    "\r\n",
    "            src_lists.append(' '.join(src_list) + '\\n')\r\n",
    "            tgt_lists.append(' '.join(tgt_list) + '\\n')\r\n",
    "            align_lists.append(' '.join(align_list) + '\\n')\r\n",
    "    \r\n",
    "    output_file_src_path = os.path.join(real_output_dir, output_prefix + \".src\").replace('\\\\', '/')\r\n",
    "    output_file_tgt_path = os.path.join(real_output_dir, output_prefix + \".tgt\").replace('\\\\', '/')\r\n",
    "    output_file_align_path = os.path.join(real_output_dir, output_prefix + \".aln\").replace('\\\\', '/')\r\n",
    "    \r\n",
    "    dirname = os.path.dirname(output_file_src_path)\r\n",
    "    if dirname == '':\r\n",
    "        dirname = '.'\r\n",
    "    os.makedirs(dirname, exist_ok=True)\r\n",
    "\r\n",
    "    print(len(src_lists), len(tgt_lists), len(align_lists))\r\n",
    "\r\n",
    "    with open(output_file_src_path, 'w', encoding='utf-8') as f2:\r\n",
    "        f2.writelines(src_lists)\r\n",
    "    with open(output_file_tgt_path, 'w', encoding='utf-8') as f2:\r\n",
    "        f2.writelines(tgt_lists)\r\n",
    "    with open(output_file_align_path, 'w', encoding='utf-8') as f2:\r\n",
    "        f2.writelines(align_lists)\r\n",
    "    print('Done', '%d lines skipped' % invalid)"
   ],
   "outputs": [],
   "metadata": {}
  },
  {
   "cell_type": "code",
   "execution_count": 6,
   "source": [
    "for split_name in split_names:\r\n",
    "    original_file_path = os.path.join(original_token_dir, split_name).replace('\\\\', '/')\r\n",
    "    split_sequences(original_file_path, split_name)\r\n",
    "shutil.copy(os.path.join(original_token_dir, 'dict.txt'), real_output_dir)"
   ],
   "outputs": [
    {
     "output_type": "stream",
     "name": "stdout",
     "text": [
      "105811 105811 105811\n",
      "Done 37 lines skipped\n",
      "9385 9385 9385\n",
      "Done 3 lines skipped\n",
      "2353 2353 2353\n",
      "Done 1 lines skipped\n"
     ]
    },
    {
     "output_type": "error",
     "ename": "FileNotFoundError",
     "evalue": "[Errno 2] No such file or directory: '../../processed_data/lmd_melody/ts1.lmd_melody.99245_8822_2205.melody_track.reb.l4000.tokenization\\\\dict.txt'",
     "traceback": [
      "\u001b[1;31m---------------------------------------------------------------------------\u001b[0m",
      "\u001b[1;31mFileNotFoundError\u001b[0m                         Traceback (most recent call last)",
      "\u001b[1;32m<ipython-input-6-58994c5672d6>\u001b[0m in \u001b[0;36m<module>\u001b[1;34m\u001b[0m\n\u001b[0;32m      2\u001b[0m     \u001b[0moriginal_file_path\u001b[0m \u001b[1;33m=\u001b[0m \u001b[0mos\u001b[0m\u001b[1;33m.\u001b[0m\u001b[0mpath\u001b[0m\u001b[1;33m.\u001b[0m\u001b[0mjoin\u001b[0m\u001b[1;33m(\u001b[0m\u001b[0moriginal_token_dir\u001b[0m\u001b[1;33m,\u001b[0m \u001b[0msplit_name\u001b[0m\u001b[1;33m)\u001b[0m\u001b[1;33m.\u001b[0m\u001b[0mreplace\u001b[0m\u001b[1;33m(\u001b[0m\u001b[1;34m'\\\\'\u001b[0m\u001b[1;33m,\u001b[0m \u001b[1;34m'/'\u001b[0m\u001b[1;33m)\u001b[0m\u001b[1;33m\u001b[0m\u001b[1;33m\u001b[0m\u001b[0m\n\u001b[0;32m      3\u001b[0m     \u001b[0msplit_sequences\u001b[0m\u001b[1;33m(\u001b[0m\u001b[0moriginal_file_path\u001b[0m\u001b[1;33m,\u001b[0m \u001b[0msplit_name\u001b[0m\u001b[1;33m)\u001b[0m\u001b[1;33m\u001b[0m\u001b[1;33m\u001b[0m\u001b[0m\n\u001b[1;32m----> 4\u001b[1;33m \u001b[0mshutil\u001b[0m\u001b[1;33m.\u001b[0m\u001b[0mcopy\u001b[0m\u001b[1;33m(\u001b[0m\u001b[0mos\u001b[0m\u001b[1;33m.\u001b[0m\u001b[0mpath\u001b[0m\u001b[1;33m.\u001b[0m\u001b[0mjoin\u001b[0m\u001b[1;33m(\u001b[0m\u001b[0moriginal_token_dir\u001b[0m\u001b[1;33m,\u001b[0m \u001b[1;34m'dict.txt'\u001b[0m\u001b[1;33m)\u001b[0m\u001b[1;33m,\u001b[0m \u001b[0mreal_output_dir\u001b[0m\u001b[1;33m)\u001b[0m\u001b[1;33m\u001b[0m\u001b[1;33m\u001b[0m\u001b[0m\n\u001b[0m",
      "\u001b[1;32m~\\Anaconda3\\lib\\shutil.py\u001b[0m in \u001b[0;36mcopy\u001b[1;34m(src, dst, follow_symlinks)\u001b[0m\n\u001b[0;32m    413\u001b[0m     \u001b[1;32mif\u001b[0m \u001b[0mos\u001b[0m\u001b[1;33m.\u001b[0m\u001b[0mpath\u001b[0m\u001b[1;33m.\u001b[0m\u001b[0misdir\u001b[0m\u001b[1;33m(\u001b[0m\u001b[0mdst\u001b[0m\u001b[1;33m)\u001b[0m\u001b[1;33m:\u001b[0m\u001b[1;33m\u001b[0m\u001b[1;33m\u001b[0m\u001b[0m\n\u001b[0;32m    414\u001b[0m         \u001b[0mdst\u001b[0m \u001b[1;33m=\u001b[0m \u001b[0mos\u001b[0m\u001b[1;33m.\u001b[0m\u001b[0mpath\u001b[0m\u001b[1;33m.\u001b[0m\u001b[0mjoin\u001b[0m\u001b[1;33m(\u001b[0m\u001b[0mdst\u001b[0m\u001b[1;33m,\u001b[0m \u001b[0mos\u001b[0m\u001b[1;33m.\u001b[0m\u001b[0mpath\u001b[0m\u001b[1;33m.\u001b[0m\u001b[0mbasename\u001b[0m\u001b[1;33m(\u001b[0m\u001b[0msrc\u001b[0m\u001b[1;33m)\u001b[0m\u001b[1;33m)\u001b[0m\u001b[1;33m\u001b[0m\u001b[1;33m\u001b[0m\u001b[0m\n\u001b[1;32m--> 415\u001b[1;33m     \u001b[0mcopyfile\u001b[0m\u001b[1;33m(\u001b[0m\u001b[0msrc\u001b[0m\u001b[1;33m,\u001b[0m \u001b[0mdst\u001b[0m\u001b[1;33m,\u001b[0m \u001b[0mfollow_symlinks\u001b[0m\u001b[1;33m=\u001b[0m\u001b[0mfollow_symlinks\u001b[0m\u001b[1;33m)\u001b[0m\u001b[1;33m\u001b[0m\u001b[1;33m\u001b[0m\u001b[0m\n\u001b[0m\u001b[0;32m    416\u001b[0m     \u001b[0mcopymode\u001b[0m\u001b[1;33m(\u001b[0m\u001b[0msrc\u001b[0m\u001b[1;33m,\u001b[0m \u001b[0mdst\u001b[0m\u001b[1;33m,\u001b[0m \u001b[0mfollow_symlinks\u001b[0m\u001b[1;33m=\u001b[0m\u001b[0mfollow_symlinks\u001b[0m\u001b[1;33m)\u001b[0m\u001b[1;33m\u001b[0m\u001b[1;33m\u001b[0m\u001b[0m\n\u001b[0;32m    417\u001b[0m     \u001b[1;32mreturn\u001b[0m \u001b[0mdst\u001b[0m\u001b[1;33m\u001b[0m\u001b[1;33m\u001b[0m\u001b[0m\n",
      "\u001b[1;32m~\\Anaconda3\\lib\\shutil.py\u001b[0m in \u001b[0;36mcopyfile\u001b[1;34m(src, dst, follow_symlinks)\u001b[0m\n\u001b[0;32m    259\u001b[0m         \u001b[0mos\u001b[0m\u001b[1;33m.\u001b[0m\u001b[0msymlink\u001b[0m\u001b[1;33m(\u001b[0m\u001b[0mos\u001b[0m\u001b[1;33m.\u001b[0m\u001b[0mreadlink\u001b[0m\u001b[1;33m(\u001b[0m\u001b[0msrc\u001b[0m\u001b[1;33m)\u001b[0m\u001b[1;33m,\u001b[0m \u001b[0mdst\u001b[0m\u001b[1;33m)\u001b[0m\u001b[1;33m\u001b[0m\u001b[1;33m\u001b[0m\u001b[0m\n\u001b[0;32m    260\u001b[0m     \u001b[1;32melse\u001b[0m\u001b[1;33m:\u001b[0m\u001b[1;33m\u001b[0m\u001b[1;33m\u001b[0m\u001b[0m\n\u001b[1;32m--> 261\u001b[1;33m         \u001b[1;32mwith\u001b[0m \u001b[0mopen\u001b[0m\u001b[1;33m(\u001b[0m\u001b[0msrc\u001b[0m\u001b[1;33m,\u001b[0m \u001b[1;34m'rb'\u001b[0m\u001b[1;33m)\u001b[0m \u001b[1;32mas\u001b[0m \u001b[0mfsrc\u001b[0m\u001b[1;33m,\u001b[0m \u001b[0mopen\u001b[0m\u001b[1;33m(\u001b[0m\u001b[0mdst\u001b[0m\u001b[1;33m,\u001b[0m \u001b[1;34m'wb'\u001b[0m\u001b[1;33m)\u001b[0m \u001b[1;32mas\u001b[0m \u001b[0mfdst\u001b[0m\u001b[1;33m:\u001b[0m\u001b[1;33m\u001b[0m\u001b[1;33m\u001b[0m\u001b[0m\n\u001b[0m\u001b[0;32m    262\u001b[0m             \u001b[1;31m# macOS\u001b[0m\u001b[1;33m\u001b[0m\u001b[1;33m\u001b[0m\u001b[1;33m\u001b[0m\u001b[0m\n\u001b[0;32m    263\u001b[0m             \u001b[1;32mif\u001b[0m \u001b[0m_HAS_FCOPYFILE\u001b[0m\u001b[1;33m:\u001b[0m\u001b[1;33m\u001b[0m\u001b[1;33m\u001b[0m\u001b[0m\n",
      "\u001b[1;31mFileNotFoundError\u001b[0m: [Errno 2] No such file or directory: '../../processed_data/lmd_melody/ts1.lmd_melody.99245_8822_2205.melody_track.reb.l4000.tokenization\\\\dict.txt'"
     ]
    }
   ],
   "metadata": {}
  },
  {
   "cell_type": "code",
   "execution_count": null,
   "source": [],
   "outputs": [],
   "metadata": {}
  },
  {
   "cell_type": "code",
   "execution_count": null,
   "source": [],
   "outputs": [],
   "metadata": {}
  },
  {
   "cell_type": "code",
   "execution_count": 6,
   "source": [
    "ls_list = 'b-0 s-8 o-0 p-65 d-18 p-69 d-18 o-24 p-64 d-8 p-68 d-8 o-32 p-67 d-8 p-71 d-9 o-40 p-65 d-7 p-69 d-7 b-0 s-8 o-0 p-64 d-10 p-67 d-12 o-12 p-64 d-4 p-72 d-4 o-16 p-67 d-28 p-76 d-28 b-0 s-8 o-8 p-65 d-8 p-74 d-3 o-10 p-76 d-3 o-11 p-74 d-6 o-16 p-64 d-8 p-73 d-8 o-24 p-65 d-8 p-74 d-8 o-32 p-69 d-12 p-77 d-12 o-44 p-67 d-4 p-76 d-4 b-0 s-8 o-0 p-65 d-13 p-74 d-14 o-12 p-67 d-4 p-76 d-3 o-16 p-64 d-12 p-72 d-12 o-32 p-67 d-12 o-46 p-60 d-18 o-47 p-64 d-18 b-0 s-8 o-0 p-67 d-18 o-2 p-72 d-18 o-3 p-76 d-18 o-24 p-75 d-8 o-32 p-77 d-8 o-40 p-76 d-4 b-0 s-8 o-0 p-74 d-8 o-8 p-73 d-5 o-16 p-76 d-12 o-32 p-74 d-12 b-0 s-8 o-0 p-74 d-20 o-24 p-73 d-8 o-32 p-76 d-8 o-40 p-74 d-5 o-46 p-72 d-3 o-47 p-74 d-4 b-0 s-8 o-1 p-72 d-11 o-12 p-71 d-4 o-16 p-74 d-16 o-32 p-72 d-12 b-0 s-8 o-0 p-69 d-20 o-24 p-68 d-8 o-32 p-71 d-8 o-40 p-69 d-4 b-0 s-8 o-0 p-67 d-12 o-12 p-72 d-4 o-16 p-76 d-27 b-0 s-8 o-8 p-74 d-3 o-10 p-76 d-2 o-11 p-74 d-5 o-16 p-73 d-8 o-24 p-74 d-8 o-32 p-76 d-9 o-40 p-77 d-4 b-0 s-8 o-0 p-81 d-24 o-32 p-79 d-12 o-45 p-64 d-19 o-46 p-67 d-20 b-0 s-8 o-0 p-72 d-20 o-2 p-76 d-20 o-24 p-66 d-8 p-75 d-8 o-32 p-69 d-8 p-77 d-8 o-39 p-76 d-4 o-40 p-67 d-8 o-46 p-74 d-3 o-47 p-76 d-4 b-0 s-8 o-0 p-66 d-8 o-2 p-74 d-6 o-8 p-65 d-8 p-73 d-8 o-16 p-67 d-12 p-76 d-12 o-32 p-66 d-12 p-74 d-12 b-0 s-8 o-0 p-65 d-19 p-74 d-20 o-24 p-64 d-8 p-73 d-8 o-32 p-67 d-9 p-76 d-8 o-40 p-65 d-8 p-74 d-8 b-0 s-8 o-0 p-64 d-9 p-72 d-9 o-8 p-63 d-8 p-71 d-8 o-16 p-65 d-16 p-74 d-16 o-32 p-64 d-12 p-72 d-12 b-0 s-8 o-0 p-65 d-18 p-69 d-18 o-24 p-64 d-8 p-68 d-8 o-32 p-67 d-8 p-71 d-9 o-40 p-65 d-7 p-69 d-7 b-0 s-8 o-0 p-64 d-10 p-67 d-12 o-12 p-64 d-4 p-72 d-4 o-16 p-67 d-28 p-76 d-28 b-0 s-8 o-8 p-65 d-8 p-74 d-3 o-10 p-76 d-3 o-11 p-74 d-6 o-16 p-64 d-8 p-73 d-8 o-24 p-65 d-8 p-74 d-8 o-32 p-69 d-12 p-77 d-12 o-44 p-67 d-4 p-76 d-4 b-0 s-8 o-0 p-65 d-13 p-74 d-14 o-12 p-67 d-3 p-76 d-3 o-13 p-60 d-25 o-14 p-64 d-25 o-15 p-67 d-24 o-16 p-72 d-24 o-17 p-76 d-23 o-19 p-79 d-23 o-20 p-84 d-22'.split(' ')"
   ],
   "outputs": [],
   "metadata": {}
  },
  {
   "cell_type": "code",
   "execution_count": 7,
   "source": [
    "src_list, tgt_list, align_list = split_sequence(ls_list)"
   ],
   "outputs": [],
   "metadata": {}
  },
  {
   "cell_type": "code",
   "execution_count": 8,
   "source": [
    "print(src_list)"
   ],
   "outputs": [
    {
     "output_type": "stream",
     "name": "stdout",
     "text": [
      "['b-0', 's-8', 'o-0', 'o-24', 'o-32', 'o-40', 'b-0', 's-8', 'o-0', 'o-12', 'o-16', 'b-0', 's-8', 'o-8', 'o-10', 'o-11', 'o-16', 'o-24', 'o-32', 'o-44', 'b-0', 's-8', 'o-0', 'o-12', 'o-16', 'o-32', 'o-46', 'o-47', 'b-0', 's-8', 'o-0', 'o-2', 'o-3', 'o-24', 'o-32', 'o-40', 'b-0', 's-8', 'o-0', 'o-8', 'o-16', 'o-32', 'b-0', 's-8', 'o-0', 'o-24', 'o-32', 'o-40', 'o-46', 'o-47', 'b-0', 's-8', 'o-1', 'o-12', 'o-16', 'o-32', 'b-0', 's-8', 'o-0', 'o-24', 'o-32', 'o-40', 'b-0', 's-8', 'o-0', 'o-12', 'o-16', 'b-0', 's-8', 'o-8', 'o-10', 'o-11', 'o-16', 'o-24', 'o-32', 'o-40', 'b-0', 's-8', 'o-0', 'o-32', 'o-45', 'o-46', 'b-0', 's-8', 'o-0', 'o-2', 'o-24', 'o-32', 'o-39', 'o-40', 'o-46', 'o-47', 'b-0', 's-8', 'o-0', 'o-2', 'o-8', 'o-16', 'o-32', 'b-0', 's-8', 'o-0', 'o-24', 'o-32', 'o-40', 'b-0', 's-8', 'o-0', 'o-8', 'o-16', 'o-32', 'b-0', 's-8', 'o-0', 'o-24', 'o-32', 'o-40', 'b-0', 's-8', 'o-0', 'o-12', 'o-16', 'b-0', 's-8', 'o-8', 'o-10', 'o-11', 'o-16', 'o-24', 'o-32', 'o-44', 'b-0', 's-8', 'o-0', 'o-12', 'o-13', 'o-14', 'o-15', 'o-16', 'o-17', 'o-19', 'o-20']\n"
     ]
    }
   ],
   "metadata": {}
  },
  {
   "cell_type": "code",
   "execution_count": 9,
   "source": [
    "print(tgt_list)"
   ],
   "outputs": [
    {
     "output_type": "stream",
     "name": "stdout",
     "text": [
      "['b-0', 's-8', 'o-0', 'p-65', 'd-18', 'p-69', 'd-18', 'o-24', 'p-64', 'd-8', 'p-68', 'd-8', 'o-32', 'p-67', 'd-8', 'p-71', 'd-9', 'o-40', 'p-65', 'd-7', 'p-69', 'd-7', 'b-0', 's-8', 'o-0', 'p-64', 'd-10', 'p-67', 'd-12', 'o-12', 'p-64', 'd-4', 'p-72', 'd-4', 'o-16', 'p-67', 'd-28', 'p-76', 'd-28', 'b-0', 's-8', 'o-8', 'p-65', 'd-8', 'p-74', 'd-3', 'o-10', 'p-76', 'd-3', 'o-11', 'p-74', 'd-6', 'o-16', 'p-64', 'd-8', 'p-73', 'd-8', 'o-24', 'p-65', 'd-8', 'p-74', 'd-8', 'o-32', 'p-69', 'd-12', 'p-77', 'd-12', 'o-44', 'p-67', 'd-4', 'p-76', 'd-4', 'b-0', 's-8', 'o-0', 'p-65', 'd-13', 'p-74', 'd-14', 'o-12', 'p-67', 'd-4', 'p-76', 'd-3', 'o-16', 'p-64', 'd-12', 'p-72', 'd-12', 'o-32', 'p-67', 'd-12', 'o-46', 'p-60', 'd-18', 'o-47', 'p-64', 'd-18', 'b-0', 's-8', 'o-0', 'p-67', 'd-18', 'o-2', 'p-72', 'd-18', 'o-3', 'p-76', 'd-18', 'o-24', 'p-75', 'd-8', 'o-32', 'p-77', 'd-8', 'o-40', 'p-76', 'd-4', 'b-0', 's-8', 'o-0', 'p-74', 'd-8', 'o-8', 'p-73', 'd-5', 'o-16', 'p-76', 'd-12', 'o-32', 'p-74', 'd-12', 'b-0', 's-8', 'o-0', 'p-74', 'd-20', 'o-24', 'p-73', 'd-8', 'o-32', 'p-76', 'd-8', 'o-40', 'p-74', 'd-5', 'o-46', 'p-72', 'd-3', 'o-47', 'p-74', 'd-4', 'b-0', 's-8', 'o-1', 'p-72', 'd-11', 'o-12', 'p-71', 'd-4', 'o-16', 'p-74', 'd-16', 'o-32', 'p-72', 'd-12', 'b-0', 's-8', 'o-0', 'p-69', 'd-20', 'o-24', 'p-68', 'd-8', 'o-32', 'p-71', 'd-8', 'o-40', 'p-69', 'd-4', 'b-0', 's-8', 'o-0', 'p-67', 'd-12', 'o-12', 'p-72', 'd-4', 'o-16', 'p-76', 'd-27', 'b-0', 's-8', 'o-8', 'p-74', 'd-3', 'o-10', 'p-76', 'd-2', 'o-11', 'p-74', 'd-5', 'o-16', 'p-73', 'd-8', 'o-24', 'p-74', 'd-8', 'o-32', 'p-76', 'd-9', 'o-40', 'p-77', 'd-4', 'b-0', 's-8', 'o-0', 'p-81', 'd-24', 'o-32', 'p-79', 'd-12', 'o-45', 'p-64', 'd-19', 'o-46', 'p-67', 'd-20', 'b-0', 's-8', 'o-0', 'p-72', 'd-20', 'o-2', 'p-76', 'd-20', 'o-24', 'p-66', 'd-8', 'p-75', 'd-8', 'o-32', 'p-69', 'd-8', 'p-77', 'd-8', 'o-39', 'p-76', 'd-4', 'o-40', 'p-67', 'd-8', 'o-46', 'p-74', 'd-3', 'o-47', 'p-76', 'd-4', 'b-0', 's-8', 'o-0', 'p-66', 'd-8', 'o-2', 'p-74', 'd-6', 'o-8', 'p-65', 'd-8', 'p-73', 'd-8', 'o-16', 'p-67', 'd-12', 'p-76', 'd-12', 'o-32', 'p-66', 'd-12', 'p-74', 'd-12', 'b-0', 's-8', 'o-0', 'p-65', 'd-19', 'p-74', 'd-20', 'o-24', 'p-64', 'd-8', 'p-73', 'd-8', 'o-32', 'p-67', 'd-9', 'p-76', 'd-8', 'o-40', 'p-65', 'd-8', 'p-74', 'd-8', 'b-0', 's-8', 'o-0', 'p-64', 'd-9', 'p-72', 'd-9', 'o-8', 'p-63', 'd-8', 'p-71', 'd-8', 'o-16', 'p-65', 'd-16', 'p-74', 'd-16', 'o-32', 'p-64', 'd-12', 'p-72', 'd-12', 'b-0', 's-8', 'o-0', 'p-65', 'd-18', 'p-69', 'd-18', 'o-24', 'p-64', 'd-8', 'p-68', 'd-8', 'o-32', 'p-67', 'd-8', 'p-71', 'd-9', 'o-40', 'p-65', 'd-7', 'p-69', 'd-7', 'b-0', 's-8', 'o-0', 'p-64', 'd-10', 'p-67', 'd-12', 'o-12', 'p-64', 'd-4', 'p-72', 'd-4', 'o-16', 'p-67', 'd-28', 'p-76', 'd-28', 'b-0', 's-8', 'o-8', 'p-65', 'd-8', 'p-74', 'd-3', 'o-10', 'p-76', 'd-3', 'o-11', 'p-74', 'd-6', 'o-16', 'p-64', 'd-8', 'p-73', 'd-8', 'o-24', 'p-65', 'd-8', 'p-74', 'd-8', 'o-32', 'p-69', 'd-12', 'p-77', 'd-12', 'o-44', 'p-67', 'd-4', 'p-76', 'd-4', 'b-0', 's-8', 'o-0', 'p-65', 'd-13', 'p-74', 'd-14', 'o-12', 'p-67', 'd-3', 'p-76', 'd-3', 'o-13', 'p-60', 'd-25', 'o-14', 'p-64', 'd-25', 'o-15', 'p-67', 'd-24', 'o-16', 'p-72', 'd-24', 'o-17', 'p-76', 'd-23', 'o-19', 'p-79', 'd-23', 'o-20', 'p-84', 'd-22']\n"
     ]
    }
   ],
   "metadata": {}
  },
  {
   "cell_type": "code",
   "execution_count": 10,
   "source": [
    "print(align_list)"
   ],
   "outputs": [
    {
     "output_type": "stream",
     "name": "stdout",
     "text": [
      "['0-0', '1-1', '2-2', '3-7', '4-12', '5-17', '6-22', '7-23', '8-24', '9-29', '10-34', '11-39', '12-40', '13-41', '14-46', '15-49', '16-52', '17-57', '18-62', '19-67', '20-72', '21-73', '22-74', '23-79', '24-84', '25-89', '26-92', '27-95', '28-98', '29-99', '30-100', '31-103', '32-106', '33-109', '34-112', '35-115', '36-118', '37-119', '38-120', '39-123', '40-126', '41-129', '42-132', '43-133', '44-134', '45-137', '46-140', '47-143', '48-146', '49-149', '50-152', '51-153', '52-154', '53-157', '54-160', '55-163', '56-166', '57-167', '58-168', '59-171', '60-174', '61-177', '62-180', '63-181', '64-182', '65-185', '66-188', '67-191', '68-192', '69-193', '70-196', '71-199', '72-202', '73-205', '74-208', '75-211', '76-214', '77-215', '78-216', '79-219', '80-222', '81-225', '82-228', '83-229', '84-230', '85-233', '86-236', '87-241', '88-246', '89-249', '90-252', '91-255', '92-258', '93-259', '94-260', '95-263', '96-266', '97-271', '98-276', '99-281', '100-282', '101-283', '102-288', '103-293', '104-298', '105-303', '106-304', '107-305', '108-310', '109-315', '110-320', '111-325', '112-326', '113-327', '114-332', '115-337', '116-342', '117-347', '118-348', '119-349', '120-354', '121-359', '122-364', '123-365', '124-366', '125-371', '126-374', '127-377', '128-382', '129-387', '130-392', '131-397', '132-398', '133-399', '134-404', '135-409', '136-412', '137-415', '138-418', '139-421', '140-424', '141-427']\n"
     ]
    }
   ],
   "metadata": {}
  },
  {
   "cell_type": "code",
   "execution_count": null,
   "source": [],
   "outputs": [],
   "metadata": {}
  }
 ],
 "metadata": {
  "interpreter": {
   "hash": "5b629903eaf6489290e375f290bb3ff8b549c1948b183ab214e326970cf6e896"
  },
  "kernelspec": {
   "display_name": "Python 3.8.5 64-bit ('base': conda)",
   "name": "python3"
  },
  "language_info": {
   "name": "python",
   "version": ""
  },
  "orig_nbformat": 2
 },
 "nbformat": 4,
 "nbformat_minor": 2
}